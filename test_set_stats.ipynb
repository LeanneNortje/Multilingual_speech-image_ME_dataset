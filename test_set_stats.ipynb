{
 "cells": [
  {
   "cell_type": "code",
   "execution_count": null,
   "id": "e1a3b3ed",
   "metadata": {},
   "outputs": [],
   "source": [
    "import json\n",
    "import numpy as np\n",
    "from PIL import Image\n",
    "from matplotlib import image\n",
    "from matplotlib import pyplot\n",
    "from pathlib import Path\n",
    "import torchaudio\n",
    "import IPython.display as ipd\n",
    "from tqdm import tqdm"
   ]
  },
  {
   "cell_type": "code",
   "execution_count": null,
   "id": "9a65fd01",
   "metadata": {},
   "outputs": [],
   "source": [
    "dataset = np.load(Path(\"data/splited_me_dataset.npz\"), allow_pickle=True)\n",
    "train = dataset['train'].item()\n",
    "dev = dataset['dev'].item()\n",
    "test = dataset['test'].item()\n",
    "unseen_test = dataset['unseen_test'].item()\n",
    "# images = np.load(Path(\"data/images_for_test_episodes.npz\"), allow_pickle=True)['images'].item()"
   ]
  },
  {
   "cell_type": "code",
   "execution_count": null,
   "id": "14c168ee",
   "metadata": {},
   "outputs": [],
   "source": [
    "for w in train:\n",
    "    print(train[w].keys())\n",
    "    break"
   ]
  },
  {
   "cell_type": "code",
   "execution_count": null,
   "id": "baaefbb9",
   "metadata": {},
   "outputs": [],
   "source": [
    "audio_numbers = {}\n",
    "image_numbers = {}"
   ]
  },
  {
   "cell_type": "code",
   "execution_count": null,
   "id": "27cc8cb8",
   "metadata": {},
   "outputs": [],
   "source": [
    "# with open(Path('analysis/train_numbers.txt'), 'w') as fl:\n",
    "print('train')\n",
    "total_images = 0\n",
    "total_english = 0\n",
    "total_dutch = 0\n",
    "total_french = 0\n",
    "for w in train:\n",
    "    i = len(train[w]['images'])\n",
    "    e = len(train[w]['english'])\n",
    "    d = len(train[w]['dutch'])\n",
    "    f = len(train[w]['french'])\n",
    "#         fl.write(f'{w}\\t{i}\\t{e}\\t{d}\\t{f}\\n')\n",
    "    total_images += i\n",
    "    total_english += e\n",
    "    total_dutch += d\n",
    "    total_french += f\n",
    "\n",
    "    print(w, i, e, d, f)\n",
    "\n",
    "\n",
    "print(total_images, total_english, total_dutch, total_french)"
   ]
  },
  {
   "cell_type": "code",
   "execution_count": null,
   "id": "20125849",
   "metadata": {},
   "outputs": [],
   "source": [
    "len(train)"
   ]
  },
  {
   "cell_type": "code",
   "execution_count": null,
   "id": "f29afa14",
   "metadata": {},
   "outputs": [],
   "source": []
  }
 ],
 "metadata": {
  "kernelspec": {
   "display_name": "Python 3 (ipykernel)",
   "language": "python",
   "name": "python3"
  },
  "language_info": {
   "codemirror_mode": {
    "name": "ipython",
    "version": 3
   },
   "file_extension": ".py",
   "mimetype": "text/x-python",
   "name": "python",
   "nbconvert_exporter": "python",
   "pygments_lexer": "ipython3",
   "version": "3.9.12"
  }
 },
 "nbformat": 4,
 "nbformat_minor": 5
}
